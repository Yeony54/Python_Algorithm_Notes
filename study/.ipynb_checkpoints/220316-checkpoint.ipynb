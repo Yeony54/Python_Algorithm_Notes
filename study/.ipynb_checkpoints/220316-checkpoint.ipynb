{
 "cells": [
  {
   "cell_type": "markdown",
   "id": "6431823c-f270-44ef-ad85-8c7fc97a3260",
   "metadata": {
    "tags": []
   },
   "source": [
    "## Code Test 대비 3일차"
   ]
  },
  {
   "cell_type": "markdown",
   "id": "f4560a2d",
   "metadata": {
    "tags": []
   },
   "source": [
    "#### baekjoon > 1712"
   ]
  },
  {
   "cell_type": "markdown",
   "id": "e7d72f04",
   "metadata": {},
   "source": [
    "월드전자는 노트북을 제조하고 판매하는 회사이다. 노트북 판매 대수에 상관없이 매년 임대료, 재산세, 보험료, 급여 등 A만원의 고정 비용이 들며, 한 대의 노트북을 생산하는 데에는 재료비와 인건비 등 총 B만원의 가변 비용이 든다고 한다.\n",
    "\n",
    "예를 들어 A=1,000, B=70이라고 하자. 이 경우 노트북을 한 대 생산하는 데는 총 1,070만원이 들며, 열 대 생산하는 데는 총 1,700만원이 든다.\n",
    "\n",
    "노트북 가격이 C만원으로 책정되었다고 한다. 일반적으로 생산 대수를 늘려 가다 보면 어느 순간 총 수입(판매비용)이 총 비용(=고정비용+가변비용)보다 많아지게 된다. 최초로 총 수입이 총 비용보다 많아져 이익이 발생하는 지점을 손익분기점(BREAK-EVEN POINT)이라고 한다.\n",
    "\n",
    "A, B, C가 주어졌을 때, 손익분기점을 구하는 프로그램을 작성하시오."
   ]
  },
  {
   "cell_type": "code",
   "execution_count": 8,
   "id": "50f34bc1",
   "metadata": {},
   "outputs": [],
   "source": [
    "A = 1000\n",
    "B = 70\n",
    "C = 170"
   ]
  },
  {
   "cell_type": "code",
   "execution_count": 10,
   "id": "d8abbfda",
   "metadata": {},
   "outputs": [],
   "source": [
    "A = 3\n",
    "B = 2\n",
    "C = 1"
   ]
  },
  {
   "cell_type": "code",
   "execution_count": 12,
   "id": "3b9c5b00",
   "metadata": {},
   "outputs": [],
   "source": [
    "A = 2100000000 \n",
    "B = 9 \n",
    "C = 10"
   ]
  },
  {
   "cell_type": "code",
   "execution_count": 15,
   "id": "8ac3d1cc",
   "metadata": {},
   "outputs": [],
   "source": [
    "# price = -A\n",
    "# money = C-B\n",
    "# num = 0\n",
    "\n",
    "# if money <= 0:\n",
    "#     print(-1)\n",
    "# else :\n",
    "#     while price <= 0:\n",
    "#         price += money\n",
    "#         num += 1\n",
    "\n",
    "#     print(num)"
   ]
  },
  {
   "cell_type": "code",
   "execution_count": 14,
   "id": "a6e66fcb",
   "metadata": {},
   "outputs": [
    {
     "name": "stdout",
     "output_type": "stream",
     "text": [
      "2100000000.0\n"
     ]
    }
   ],
   "source": [
    "price = A\n",
    "money = C-B\n",
    "if money <= 0:\n",
    "    print(-1) # 노트북을 팔았을 때 수익이 없을 경우 return -1\n",
    "else :\n",
    "    # num * money >= price\n",
    "    # num >= price/money\n",
    "    # if price%money == 0:\n",
    "    #     print(price/money)\n",
    "    # else :\n",
    "    #     print(price//money + 1)\n",
    "    print(price//money + 1)"
   ]
  }
 ],
 "metadata": {
  "kernelspec": {
   "display_name": "Python 3 (ipykernel)",
   "language": "python",
   "name": "python3"
  },
  "language_info": {
   "codemirror_mode": {
    "name": "ipython",
    "version": 3
   },
   "file_extension": ".py",
   "mimetype": "text/x-python",
   "name": "python",
   "nbconvert_exporter": "python",
   "pygments_lexer": "ipython3",
   "version": "3.9.7"
  }
 },
 "nbformat": 4,
 "nbformat_minor": 5
}
