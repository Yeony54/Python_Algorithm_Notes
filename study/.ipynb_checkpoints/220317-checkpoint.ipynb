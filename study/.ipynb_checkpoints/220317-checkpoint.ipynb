{
 "cells": [
  {
   "cell_type": "markdown",
   "id": "6431823c-f270-44ef-ad85-8c7fc97a3260",
   "metadata": {
    "tags": []
   },
   "source": [
    "## Code Test 대비 4일차"
   ]
  },
  {
   "cell_type": "markdown",
   "id": "c86054e3-1291-4bdb-9f2b-ba277c316481",
   "metadata": {
    "tags": []
   },
   "source": [
    "#### baekjoon > 1267"
   ]
  },
  {
   "cell_type": "markdown",
   "id": "40a9725a",
   "metadata": {},
   "source": [
    "동호는 새악대로 T 통신사의 새 핸드폰 옴머나를 샀다. 새악대로 T 통신사는 동호에게 다음 두 가지 요금제 중 하나를 선택하라고 했다.\n",
    "\n",
    "영식 요금제\n",
    "민식 요금제\n",
    "영식 요금제는 30초마다 10원씩 청구된다. 이 말은 만약 29초 또는 그 보다 적은 시간 통화를 했으면 10원이 청구된다. 만약 30초부터 59초 사이로 통화를 했으면 20원이 청구된다.\n",
    "\n",
    "민식 요금제는 60초마다 15원씩 청구된다. 이 말은 만약 59초 또는 그 보다 적은 시간 통화를 했으면 15원이 청구된다. 만약 60초부터 119초 사이로 통화를 했으면 30원이 청구된다.\n",
    "\n",
    "동호가 저번 달에 새악대로 T 통신사를 이용할 때 통화 시간 목록이 주어지면 어느 요금제를 사용 하는 것이 저렴한지 출력하는 프로그램을 작성하시오.\n",
    "\n",
    "- 동호가 저번 달에 이용한 통화의 개수 N이 주어진다. N은 20보다 작거나 같은 자연수이다. \n",
    "- 둘째 줄에 통화 시간 N개가 주어진다. 통화 시간은 10,000보다 작거나 같은 자연수이다."
   ]
  },
  {
   "cell_type": "markdown",
   "id": "de807070",
   "metadata": {},
   "source": [
    "**백준을 사용할 때에는 module을 사용하지 못한다❗**"
   ]
  },
  {
   "cell_type": "code",
   "execution_count": 25,
   "id": "27ed8402",
   "metadata": {},
   "outputs": [],
   "source": [
    "N = 3\n",
    "arr = [40, 40, 40]\n",
    "# answer\n",
    "# 영식 20 + 20 + 20 = 60\n",
    "# 민식 15 + 15 + 15 = 45\n",
    "# result = M 45"
   ]
  },
  {
   "cell_type": "code",
   "execution_count": 34,
   "id": "72cd100b",
   "metadata": {},
   "outputs": [],
   "source": [
    "N = 2\n",
    "arr = [61, 10]\n",
    "# Y 40"
   ]
  },
  {
   "cell_type": "code",
   "execution_count": 37,
   "id": "035b657b",
   "metadata": {},
   "outputs": [],
   "source": [
    "N = 3\n",
    "arr = [61, 61, 61]\n",
    "# Y M 90"
   ]
  },
  {
   "cell_type": "code",
   "execution_count": 40,
   "id": "078b86e0",
   "metadata": {},
   "outputs": [],
   "source": [
    "N = 2\n",
    "arr = [60, 65]\n",
    "# Y M 60"
   ]
  },
  {
   "cell_type": "code",
   "execution_count": 42,
   "id": "3caab129",
   "metadata": {},
   "outputs": [],
   "source": [
    "# 반례\n",
    "N = 2\n",
    "arr = [200, 400]\n",
    "# M 150"
   ]
  },
  {
   "cell_type": "code",
   "execution_count": 2,
   "id": "78085a46",
   "metadata": {},
   "outputs": [],
   "source": [
    "# 반례\n",
    "N = 1\n",
    "arr = 300\n",
    "# M 75"
   ]
  },
  {
   "cell_type": "code",
   "execution_count": 8,
   "id": "4d21dea3",
   "metadata": {},
   "outputs": [],
   "source": [
    "N = 1\n",
    "arr = [60]"
   ]
  },
  {
   "cell_type": "code",
   "execution_count": null,
   "id": "7e5e7b37",
   "metadata": {},
   "outputs": [],
   "source": [
    "# baekjoon 제출 코드\n",
    "'''\n",
    "import sys\n",
    "import numpy as np\n",
    "\n",
    "N = int(sys.stdin.readline())\n",
    "arr = list(map(int, sys.stdin.readline().split()))\n",
    "\n",
    "calls = np.array(arr)\n",
    "ys = (calls + 30)//30\n",
    "ys = ys.sum() * 10\n",
    "ms = (calls + 60)//60\n",
    "ms = ms.sum() * 15\n",
    "\n",
    "print(f'Y {ys}' if ys<ms  else  f'Y M {ms}' if ys==ms  else f'M {ms}' )\n",
    "sys.exit(1)\n",
    "'''"
   ]
  },
  {
   "cell_type": "code",
   "execution_count": null,
   "id": "0463d5b6",
   "metadata": {},
   "outputs": [],
   "source": [
    "# 30초 마다 10원, 60초마다 15원\n",
    "# 60초 통화를 했으면, 2*10, 1*15\n",
    "# 1~29 까지 30초로친다.\n",
    "# 30~59 까지 60초"
   ]
  },
  {
   "cell_type": "code",
   "execution_count": 43,
   "id": "d9832159",
   "metadata": {},
   "outputs": [
    {
     "name": "stdout",
     "output_type": "stream",
     "text": [
      "N=2, arr=[200, 400]\n",
      "y_sum = 7, m_sum = 4\n",
      "y_sum = 14, m_sum = 7\n",
      "M 165\n"
     ]
    }
   ],
   "source": [
    "# numpy 없이 해보기\n",
    "print(f'N={N}, arr={arr}')\n",
    "y_sum = 0\n",
    "m_sum = 0\n",
    "for call in arr:\n",
    "    y_sum += (call+30)//30\n",
    "    m_sum += (call+60)//60\n",
    "    print(f'y_sum = {(call+30)//30}, m_sum = {(call+60)//60}')\n",
    "ys = y_sum*10\n",
    "ms = m_sum*15\n",
    "\n",
    "print(f'Y {ys}' if ys<ms  else f'Y M {ms}'if ys==ms  else f'M {ms}')"
   ]
  },
  {
   "cell_type": "code",
   "execution_count": null,
   "id": "c8a2a78a",
   "metadata": {},
   "outputs": [],
   "source": [
    "# 백준 2번째 제출코드\n",
    "'''\n",
    "import sys\n",
    "\n",
    "N = int(sys.stdin.readline())\n",
    "arr = list(map(int, sys.stdin.readline().split()))\n",
    "\n",
    "y_sum = 0\n",
    "m_sum = 0\n",
    "\n",
    "for call in arr:\n",
    "    y_sum += (call+30)//30\n",
    "    m_sum += (call+60)//60\n",
    "ys = y_sum*10\n",
    "ms = m_sum*15\n",
    "\n",
    "print(f'Y {ys}' if ys<ms  else f'Y M {ms}'if ys==ms  else f'M {ms}')\n",
    "'''"
   ]
  },
  {
   "cell_type": "code",
   "execution_count": null,
   "id": "de418166",
   "metadata": {},
   "outputs": [],
   "source": []
  }
 ],
 "metadata": {
  "kernelspec": {
   "display_name": "Python 3 (ipykernel)",
   "language": "python",
   "name": "python3"
  },
  "language_info": {
   "codemirror_mode": {
    "name": "ipython",
    "version": 3
   },
   "file_extension": ".py",
   "mimetype": "text/x-python",
   "name": "python",
   "nbconvert_exporter": "python",
   "pygments_lexer": "ipython3",
   "version": "3.8.12"
  }
 },
 "nbformat": 4,
 "nbformat_minor": 5
}
