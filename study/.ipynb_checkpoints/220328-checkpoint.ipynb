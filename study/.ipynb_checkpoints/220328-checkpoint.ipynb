{
 "cells": [
  {
   "cell_type": "markdown",
   "id": "521994e0",
   "metadata": {},
   "source": [
    "프로그래머스 > 레벨1 > KAKAO 신고결과 받기\n",
    "\n",
    "신입사원 무지는 게시판 불량 이용자를 신고하고 처리 결과를 메일로 발송하는 시스템을 개발하려 합니다. 무지가 개발하려는 시스템은 다음과 같습니다.\n",
    "\n",
    "각 유저는 한 번에 한 명의 유저를 신고할 수 있습니다.\n",
    "신고 횟수에 제한은 없습니다. 서로 다른 유저를 계속해서 신고할 수 있습니다.\n",
    "한 유저를 여러 번 신고할 수도 있지만, 동일한 유저에 대한 신고 횟수는 1회로 처리됩니다.\n",
    "k번 이상 신고된 유저는 게시판 이용이 정지되며, 해당 유저를 신고한 모든 유저에게 정지 사실을 메일로 발송합니다.\n",
    "유저가 신고한 모든 내용을 취합하여 마지막에 한꺼번에 게시판 이용 정지를 시키면서 정지 메일을 발송합니다."
   ]
  },
  {
   "cell_type": "code",
   "execution_count": 10,
   "id": "0e8accac",
   "metadata": {},
   "outputs": [],
   "source": [
    "import itertools"
   ]
  },
  {
   "cell_type": "code",
   "execution_count": 1,
   "id": "bb113882",
   "metadata": {},
   "outputs": [],
   "source": [
    "id_list = [\"muzi\", \"frodo\", \"apeach\", \"neo\"]\n",
    "report = [\"muzi frodo\",\"apeach frodo\",\"frodo neo\",\"muzi neo\",\"apeach muzi\"]\n",
    "k = 2\n",
    "# result = [2,1,1,0]"
   ]
  },
  {
   "cell_type": "code",
   "execution_count": 36,
   "id": "afcc35d2",
   "metadata": {},
   "outputs": [],
   "source": [
    "id_list = [\"con\", \"ryan\"]\n",
    "report = [\"ryan con\", \"ryan con\", \"ryan con\", \"ryan con\"]\n",
    "k = 3\n",
    "# result = [0,0]"
   ]
  },
  {
   "cell_type": "code",
   "execution_count": 39,
   "id": "c9defc7f",
   "metadata": {},
   "outputs": [],
   "source": [
    "def solution(id_list, report, k):\n",
    "\n",
    "    # id_list 를 dictionary 형태로 만들어주었다.\n",
    "    id_dic = dict()\n",
    "    for i in range(len(id_list)):\n",
    "        id_dic[id_list[i]]=i\n",
    "\n",
    "    # report 메세지를 split()을 사용해 리스트로 생성해 주었다.\n",
    "    report_list = [r.split() for r in report]\n",
    "\n",
    "    # 각 사용자들이 신고한 유저 리스트\n",
    "    # set을 사용해서 각 유저당 중복으로 신고하는 건수를 제외시켜준다.\n",
    "    user_report_list = [set() for _ in id_list]\n",
    "\n",
    "    # 각 유저당 얼마나 report를 받았는지 저장하는 리스트    \n",
    "    reported = [0 for _ in id_list]\n",
    "\n",
    "    # 정지된 유저 list\n",
    "    stoped_user = []\n",
    "\n",
    "    # 출력될 response\n",
    "    response = [0 for _ in range(len(id_dic))]\n",
    "\n",
    "    # 각 사용자들이 신고한 유저 저장 리스트 ( 중복 제외 )\n",
    "    for r in report_list:\n",
    "        user_report_list[id_dic[r[0]]].add(r[1])\n",
    "    \n",
    "    # itertools.chain을 사용해서 user_report_list 각각의 원소들을 연결한 list 생성\n",
    "    user_report_list_chain = list(itertools.chain(*user_report_list))\n",
    "\n",
    "    # 만들어둔 report 저장 list에 report된 횟수만큼 저장\n",
    "    for r in user_report_list_chain:\n",
    "        reported[id_dic[r]] += 1\n",
    "\n",
    "    # 정지된 유저 list\n",
    "    for i in range(len(reported)):\n",
    "        if reported[i] >= k:\n",
    "            stoped_user.append(id_list[i])\n",
    "\n",
    "    # 정지된 유저를 신고한 유저에게 보낼 메세지 개수\n",
    "    for i in range(len(user_report_list)):\n",
    "        for r in user_report_list[i]:\n",
    "            if r in stoped_user:\n",
    "                response[i] += 1\n",
    "            \n",
    "    return(response)\n",
    "\n",
    "        "
   ]
  },
  {
   "cell_type": "code",
   "execution_count": 40,
   "id": "a62b898f",
   "metadata": {},
   "outputs": [
    {
     "data": {
      "text/plain": [
       "[0, 0]"
      ]
     },
     "execution_count": 40,
     "metadata": {},
     "output_type": "execute_result"
    }
   ],
   "source": [
    "solution(id_list, report, k)"
   ]
  },
  {
   "cell_type": "markdown",
   "id": "983b01dc",
   "metadata": {},
   "source": [
    "**다른 사람들의 코드**"
   ]
  },
  {
   "cell_type": "code",
   "execution_count": null,
   "id": "010cf89a",
   "metadata": {},
   "outputs": [],
   "source": []
  },
  {
   "cell_type": "code",
   "execution_count": null,
   "id": "0d83b9a8",
   "metadata": {},
   "outputs": [],
   "source": []
  }
 ],
 "metadata": {
  "kernelspec": {
   "display_name": "Python [conda env:machine] *",
   "language": "python",
   "name": "conda-env-machine-py"
  },
  "language_info": {
   "codemirror_mode": {
    "name": "ipython",
    "version": 3
   },
   "file_extension": ".py",
   "mimetype": "text/x-python",
   "name": "python",
   "nbconvert_exporter": "python",
   "pygments_lexer": "ipython3",
   "version": "3.8.12"
  }
 },
 "nbformat": 4,
 "nbformat_minor": 5
}
