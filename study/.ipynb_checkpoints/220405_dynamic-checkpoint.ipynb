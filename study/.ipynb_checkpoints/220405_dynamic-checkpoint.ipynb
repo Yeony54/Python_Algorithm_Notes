{
 "cells": [
  {
   "cell_type": "markdown",
   "id": "1c69d982",
   "metadata": {},
   "source": [
    "baekjoon > 2839\n",
    "\n",
    "상근이는 요즘 설탕공장에서 설탕을 배달하고 있다. 상근이는 지금 사탕가게에 설탕을 정확하게 N킬로그램을 배달해야 한다. 설탕공장에서 만드는 설탕은 봉지에 담겨져 있다. 봉지는 3킬로그램 봉지와 5킬로그램 봉지가 있다.\n",
    "\n",
    "상근이는 귀찮기 때문에, 최대한 적은 봉지를 들고 가려고 한다. 예를 들어, 18킬로그램 설탕을 배달해야 할 때, 3킬로그램 봉지 6개를 가져가도 되지만, 5킬로그램 3개와 3킬로그램 1개를 배달하면, 더 적은 개수의 봉지를 배달할 수 있다.\n",
    "\n",
    "상근이가 설탕을 정확하게 N킬로그램 배달해야 할 때, 봉지 몇 개를 가져가면 되는지 그 수를 구하는 프로그램을 작성하시오.\n",
    "\n",
    "- 첫째 줄에 N이 주어진다. (3 ≤ N ≤ 5000)\n",
    "- 상근이가 배달하는 봉지의 최소 개수를 출력한다. 만약, 정확하게 N킬로그램을 만들 수 없다면 -1을 출력한다.\n"
   ]
  },
  {
   "cell_type": "code",
   "execution_count": null,
   "id": "7c87afb5",
   "metadata": {},
   "outputs": [],
   "source": [
    "import sys\n",
    "r = sys.stdin.readline\n",
    "\n",
    "N = int(r())\n",
    "    \n",
    "num = 0\n",
    "# 5kg 봉지를 가져갈 수 있는 수 : N//5 개 ~ 0개\n",
    "# 3kg 봉지를 가져갈 수 있는 수 : (N-(5*i))//3 개\n",
    "# 5kg 봉지를 많이 가져가는게 봉지가 제일 적다\n",
    "# 5kg 봉지를 가장 많이들고갈 수 있고, 3kg 으로 나누어 떨어질 때의 값을 찾는다.\n",
    "# 없으면 -1 반환\n",
    "for i in range(N//5,-1,-1) :\n",
    "    if (N-(5*i))%3 == 0 : \n",
    "        num = i + (N-(5*i))//3\n",
    "        break\n",
    "print(num if num else -1)"
   ]
  },
  {
   "cell_type": "markdown",
   "id": "28de7200",
   "metadata": {},
   "source": [
    "# 동적프로그래밍"
   ]
  },
  {
   "cell_type": "markdown",
   "id": "3fb5b58b",
   "metadata": {},
   "source": [
    "**정의**\n",
    "- 큰 문제를 한 번에 해결하기 힘들 때 작은 여러 개의 문제로 나누어서 푸는 기법\n",
    "\n",
    "**종류**\n",
    "- 메모이제이션\n",
    "    - Top-Down\n",
    "    - 재귀 호출 시, 반복적으로 계산되는 것들의 계산 횟수를 줄이기 위해 이전에 계산했던 값을 저장해두었다가 나중에 재사용하는 방법\n",
    "- 상향식 계산법\n",
    "    - Bottom-up\n",
    "    - 상향식 계산법이 성능이 더 좋은 경우가 많음\n",
    "\n",
    "**문제**\n",
    "- 막대기 자르기\n",
    "- 최장 공통 수열 문제\n",
    "- 0/1 배낭문제"
   ]
  },
  {
   "cell_type": "markdown",
   "id": "3fc9125e",
   "metadata": {},
   "source": [
    "### 막대기자르기\n",
    "하나의 긴 막대기가 있는데 막대기 조각마다 가격이 다릅니다. 막대기를 적절하게 잘라서 가장 가격이 높게 만들어야 합니다.\n",
    "\n",
    "길이(i) 0 1 2 3 4 5 6 7 8 9 10  \n",
    "가격(Pi) 0 1 5 8 9 10 17 17 20 24 30\n",
    "\n",
    "예를 들면 길이가 4인 막대기를 자를 때 얻을 수 있는 최대 가격은, 길이를 2인 막대기 두 개로 나누어서 가격을 5 + 5 = 10으로 만드는 겁니다. 길이가 6인 막대는 자르지 않고 그냥 팔았을 때 최대 17의 가격을 얻을 수 있습니다.\n",
    "\n",
    "- Rn = max(Pi + Rn-i) (i는 1부터 n)\n",
    "- 예시) 길이가 4인 막대기의 최대 가격은 R4 = max(P1 + R3, P2 + R2, P3 + R1, P4 + R0)\n",
    "\n",
    "식으로 이렇게 표현할 수 있다."
   ]
  },
  {
   "cell_type": "code",
   "execution_count": null,
   "id": "146c8cc4",
   "metadata": {},
   "outputs": [],
   "source": []
  },
  {
   "cell_type": "code",
   "execution_count": null,
   "id": "4a6fab79",
   "metadata": {},
   "outputs": [],
   "source": []
  }
 ],
 "metadata": {
  "kernelspec": {
   "display_name": "Python [conda env:machine_TF15] *",
   "language": "python",
   "name": "conda-env-machine_TF15-py"
  },
  "language_info": {
   "codemirror_mode": {
    "name": "ipython",
    "version": 3
   },
   "file_extension": ".py",
   "mimetype": "text/x-python",
   "name": "python",
   "nbconvert_exporter": "python",
   "pygments_lexer": "ipython3",
   "version": "3.7.13"
  }
 },
 "nbformat": 4,
 "nbformat_minor": 5
}
