{
 "cells": [
  {
   "cell_type": "markdown",
   "id": "6431823c-f270-44ef-ad85-8c7fc97a3260",
   "metadata": {
    "tags": []
   },
   "source": [
    "## Code Test 대비 2일차"
   ]
  },
  {
   "cell_type": "markdown",
   "id": "c86054e3-1291-4bdb-9f2b-ba277c316481",
   "metadata": {
    "tags": []
   },
   "source": [
    "#### Baeckjoon> 10818 최소, 최대\n",
    "\n",
    "N개의 정수가 주어진다. 이때, 최솟값과 최댓값을 구하는 프로그램을 작성하시오."
   ]
  },
  {
   "cell_type": "code",
   "execution_count": 3,
   "id": "d6ab6411-bbf8-43c5-bb94-a6b22574efe1",
   "metadata": {},
   "outputs": [],
   "source": [
    "N = 5\n",
    "nums = [20, 30, 35, 5, 7]"
   ]
  },
  {
   "cell_type": "code",
   "execution_count": 4,
   "id": "2ebed0c1-a0a9-4fe1-8e75-e749369f2036",
   "metadata": {},
   "outputs": [
    {
     "name": "stdout",
     "output_type": "stream",
     "text": [
      "5 35\n"
     ]
    }
   ],
   "source": [
    "# N = int(sys.stdin.readline())\n",
    "# nums = list(map(int, input().split()))\n",
    "# for i in range(N) :\n",
    "#     nums.append(int(sys.stdin.readline()))\n",
    "print(min(nums), max(nums))"
   ]
  },
  {
   "cell_type": "markdown",
   "id": "24062d6a-9c2a-4adf-aa5e-dd51c14b7cad",
   "metadata": {
    "tags": []
   },
   "source": [
    "#### Programmers > Hash > 완주하지 못한 선수\n",
    "\n",
    "수많은 마라톤 선수들이 마라톤에 참여하였습니다. 단 한 명의 선수를 제외하고는 모든 선수가 마라톤을 완주하였습니다.\n",
    "\n",
    "마라톤에 참여한 선수들의 이름이 담긴 배열 participant와 완주한 선수들의 이름이 담긴 배열 completion이 주어질 때, 완주하지 못한 선수의 이름을 return 하도록 solution 함수를 작성해주세요.\n",
    "\n",
    "제한사항\n",
    "- 마라톤 경기에 참여한 선수의 수는 1명 이상 100,000명 이하입니다.\n",
    "- completion의 길이는 participant의 길이보다 1 작습니다.\n",
    "- 참가자의 이름은 1개 이상 20개 이하의 알파벳 소문자로 이루어져 있습니다.\n",
    "- 참가자 중에는 동명이인이 있을 수 있습니다."
   ]
  },
  {
   "cell_type": "code",
   "execution_count": 6,
   "id": "6f095aa3-1957-4d63-83ea-deb6bb524f37",
   "metadata": {
    "jp-MarkdownHeadingCollapsed": true,
    "tags": []
   },
   "outputs": [],
   "source": [
    "participant = [\"leo\", \"kiki\", \"eden\"]\n",
    "completion = [\"eden\", \"kiki\"]\n",
    "# return = 'leo'"
   ]
  },
  {
   "cell_type": "code",
   "execution_count": null,
   "id": "ed218c2a-5d71-4618-94e0-4151246b9142",
   "metadata": {},
   "outputs": [],
   "source": [
    "# dict = {}\n",
    "# def solution(participant, completion):\n",
    "#     for p in participant:\n",
    "#         try : \n",
    "#             temp = dict[hash(p)]\n",
    "#             dict[hash(p)] = temp+1\n",
    "#         else : \n",
    "#             dict[hash(p)] = c\n",
    "\n",
    "# 어렵다 정답지 안보고 풀려고 했는데 ㅠㅠ\n",
    "# 내가 생각하는 방법으로는 풀 수 있는 방법이 없었다."
   ]
  },
  {
   "cell_type": "code",
   "execution_count": null,
   "id": "f2686bb0-ea28-42c6-a189-93cbcdd19fe4",
   "metadata": {},
   "outputs": [],
   "source": [
    "# 풀이 1\n",
    "# hash의 특성을 사용해서 푼 풀이\n",
    "import collections\n",
    "\n",
    "def solution(participant, completion):\n",
    "    answer = ''\n",
    "    temp=0\n",
    "    dic={}\n",
    "    for part in participant :\n",
    "        dic[hash(part)] = part        # dict에 hash값으로 접근하여 participant를 저장\n",
    "        temp += int(hash(part))       # temp에 hash값을 더한다.\n",
    "    for com in completion :\n",
    "        temp -= int(hash(com))        # temp에서 hash값을 뺀다.\n",
    "    answer = dic[temp]                # 다 빼고 남은 나머지 hash값으로 dict에 접근하면 \n",
    "                                      # 그 사람을 찾을 수 있다.\n",
    "    return answer"
   ]
  },
  {
   "cell_type": "code",
   "execution_count": null,
   "id": "7dfc7d78-5728-413e-9414-fbc5e70bdcf7",
   "metadata": {},
   "outputs": [],
   "source": [
    "# 풀이2\n",
    "# collections를 사용해서 푼 풀이\n",
    "# collections의 차집합(?) 특성을 사용해서 남은 한사람을 간단히 찾는다.\n",
    "# 고인물 풀이\n",
    "import collections\n",
    "\n",
    "def solution(participant, completion):\n",
    "    answer = collections.Counter(participant)-collections.Counter(completion)\n",
    "    return list(answer.keys())[0]"
   ]
  }
 ],
 "metadata": {
  "kernelspec": {
   "display_name": "Python 3 (ipykernel)",
   "language": "python",
   "name": "python3"
  },
  "language_info": {
   "codemirror_mode": {
    "name": "ipython",
    "version": 3
   },
   "file_extension": ".py",
   "mimetype": "text/x-python",
   "name": "python",
   "nbconvert_exporter": "python",
   "pygments_lexer": "ipython3",
   "version": "3.9.7"
  }
 },
 "nbformat": 4,
 "nbformat_minor": 5
}
