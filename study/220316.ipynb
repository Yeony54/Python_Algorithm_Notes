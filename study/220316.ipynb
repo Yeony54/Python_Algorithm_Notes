{
 "cells": [
  {
   "cell_type": "markdown",
   "id": "6431823c-f270-44ef-ad85-8c7fc97a3260",
   "metadata": {
    "tags": []
   },
   "source": [
    "## Code Test 대비 3일차"
   ]
  },
  {
   "cell_type": "markdown",
   "id": "f4560a2d",
   "metadata": {
    "tags": []
   },
   "source": [
    "#### baekjoon > 1712"
   ]
  },
  {
   "cell_type": "markdown",
   "id": "e7d72f04",
   "metadata": {},
   "source": [
    "월드전자는 노트북을 제조하고 판매하는 회사이다. 노트북 판매 대수에 상관없이 매년 임대료, 재산세, 보험료, 급여 등 A만원의 고정 비용이 들며, 한 대의 노트북을 생산하는 데에는 재료비와 인건비 등 총 B만원의 가변 비용이 든다고 한다.\n",
    "\n",
    "예를 들어 A=1,000, B=70이라고 하자. 이 경우 노트북을 한 대 생산하는 데는 총 1,070만원이 들며, 열 대 생산하는 데는 총 1,700만원이 든다.\n",
    "\n",
    "노트북 가격이 C만원으로 책정되었다고 한다. 일반적으로 생산 대수를 늘려 가다 보면 어느 순간 총 수입(판매비용)이 총 비용(=고정비용+가변비용)보다 많아지게 된다. 최초로 총 수입이 총 비용보다 많아져 이익이 발생하는 지점을 손익분기점(BREAK-EVEN POINT)이라고 한다.\n",
    "\n",
    "A, B, C가 주어졌을 때, 손익분기점을 구하는 프로그램을 작성하시오."
   ]
  },
  {
   "cell_type": "code",
   "execution_count": 8,
   "id": "50f34bc1",
   "metadata": {},
   "outputs": [],
   "source": [
    "A = 1000\n",
    "B = 70\n",
    "C = 170"
   ]
  },
  {
   "cell_type": "code",
   "execution_count": 10,
   "id": "d8abbfda",
   "metadata": {},
   "outputs": [],
   "source": [
    "A = 3\n",
    "B = 2\n",
    "C = 1"
   ]
  },
  {
   "cell_type": "code",
   "execution_count": 12,
   "id": "3b9c5b00",
   "metadata": {},
   "outputs": [],
   "source": [
    "A = 2100000000 \n",
    "B = 9 \n",
    "C = 10"
   ]
  },
  {
   "cell_type": "code",
   "execution_count": 15,
   "id": "8ac3d1cc",
   "metadata": {},
   "outputs": [],
   "source": [
    "# price = -A\n",
    "# money = C-B\n",
    "# num = 0\n",
    "\n",
    "# if money <= 0:\n",
    "#     print(-1)\n",
    "# else :\n",
    "#     while price <= 0:\n",
    "#         price += money\n",
    "#         num += 1\n",
    "\n",
    "#     print(num)"
   ]
  },
  {
   "cell_type": "code",
   "execution_count": 14,
   "id": "a6e66fcb",
   "metadata": {},
   "outputs": [
    {
     "name": "stdout",
     "output_type": "stream",
     "text": [
      "2100000000.0\n"
     ]
    }
   ],
   "source": [
    "price = A\n",
    "money = C-B\n",
    "if money <= 0:\n",
    "    print(-1) # 노트북을 팔았을 때 수익이 없을 경우 return -1\n",
    "else :\n",
    "    # num * money >= price\n",
    "    # num >= price/money\n",
    "    if price%money == 0:\n",
    "        print(price/money)\n",
    "    else :\n",
    "        print(price//money + 1)"
   ]
  },
  {
   "cell_type": "markdown",
   "id": "c86054e3-1291-4bdb-9f2b-ba277c316481",
   "metadata": {
    "tags": []
   },
   "source": [
    "#### baekjoon > 1267"
   ]
  },
  {
   "cell_type": "markdown",
   "id": "40a9725a",
   "metadata": {},
   "source": [
    "동호는 새악대로 T 통신사의 새 핸드폰 옴머나를 샀다. 새악대로 T 통신사는 동호에게 다음 두 가지 요금제 중 하나를 선택하라고 했다.\n",
    "\n",
    "영식 요금제\n",
    "민식 요금제\n",
    "영식 요금제는 30초마다 10원씩 청구된다. 이 말은 만약 29초 또는 그 보다 적은 시간 통화를 했으면 10원이 청구된다. 만약 30초부터 59초 사이로 통화를 했으면 20원이 청구된다.\n",
    "\n",
    "민식 요금제는 60초마다 15원씩 청구된다. 이 말은 만약 59초 또는 그 보다 적은 시간 통화를 했으면 15원이 청구된다. 만약 60초부터 119초 사이로 통화를 했으면 30원이 청구된다.\n",
    "\n",
    "동호가 저번 달에 새악대로 T 통신사를 이용할 때 통화 시간 목록이 주어지면 어느 요금제를 사용 하는 것이 저렴한지 출력하는 프로그램을 작성하시오."
   ]
  },
  {
   "cell_type": "code",
   "execution_count": 3,
   "id": "27ed8402",
   "metadata": {},
   "outputs": [],
   "source": [
    "N = 3\n",
    "calls = [40, 40, 40]\n",
    "# answer\n",
    "# 영식 20 + 20 + 20 = 60\n",
    "# 민식 15 + 15 + 15 = 45\n",
    "# result = M 45"
   ]
  },
  {
   "cell_type": "code",
   "execution_count": 4,
   "id": "6a2f7146",
   "metadata": {},
   "outputs": [
    {
     "ename": "TypeError",
     "evalue": "unsupported operand type(s) for -: 'list' and 'int'",
     "output_type": "error",
     "traceback": [
      "\u001b[1;31m---------------------------------------------------------------------------\u001b[0m",
      "\u001b[1;31mTypeError\u001b[0m                                 Traceback (most recent call last)",
      "Input \u001b[1;32mIn [4]\u001b[0m, in \u001b[0;36m<cell line: 2>\u001b[1;34m()\u001b[0m\n\u001b[0;32m      1\u001b[0m \u001b[38;5;28;01mimport\u001b[39;00m \u001b[38;5;21;01mnumpy\u001b[39;00m \u001b[38;5;28;01mas\u001b[39;00m \u001b[38;5;21;01mnp\u001b[39;00m\n\u001b[1;32m----> 2\u001b[0m num \u001b[38;5;241m=\u001b[39m \u001b[43mnp\u001b[49m\u001b[38;5;241;43m.\u001b[39;49m\u001b[43marange\u001b[49m\u001b[43m(\u001b[49m\u001b[43mcalls\u001b[49m\u001b[43m)\u001b[49m\n",
      "\u001b[1;31mTypeError\u001b[0m: unsupported operand type(s) for -: 'list' and 'int'"
     ]
    }
   ],
   "source": [
    "import numpy as np\n",
    "num = np.arange(calls)"
   ]
  },
  {
   "cell_type": "code",
   "execution_count": null,
   "id": "f7a47dc4",
   "metadata": {},
   "outputs": [],
   "source": []
  }
 ],
 "metadata": {
  "kernelspec": {
   "display_name": "Python [conda env:machine] *",
   "language": "python",
   "name": "conda-env-machine-py"
  },
  "language_info": {
   "codemirror_mode": {
    "name": "ipython",
    "version": 3
   },
   "file_extension": ".py",
   "mimetype": "text/x-python",
   "name": "python",
   "nbconvert_exporter": "python",
   "pygments_lexer": "ipython3",
   "version": "3.8.12"
  }
 },
 "nbformat": 4,
 "nbformat_minor": 5
}
