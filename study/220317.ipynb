{
 "cells": [
  {
   "cell_type": "markdown",
   "id": "6431823c-f270-44ef-ad85-8c7fc97a3260",
   "metadata": {
    "tags": []
   },
   "source": [
    "## Code Test 대비 4일차"
   ]
  },
  {
   "cell_type": "markdown",
   "id": "c86054e3-1291-4bdb-9f2b-ba277c316481",
   "metadata": {
    "tags": []
   },
   "source": [
    "#### baekjoon > 1267"
   ]
  },
  {
   "cell_type": "markdown",
   "id": "40a9725a",
   "metadata": {},
   "source": [
    "동호는 새악대로 T 통신사의 새 핸드폰 옴머나를 샀다. 새악대로 T 통신사는 동호에게 다음 두 가지 요금제 중 하나를 선택하라고 했다.\n",
    "\n",
    "영식 요금제\n",
    "민식 요금제\n",
    "영식 요금제는 30초마다 10원씩 청구된다. 이 말은 만약 29초 또는 그 보다 적은 시간 통화를 했으면 10원이 청구된다. 만약 30초부터 59초 사이로 통화를 했으면 20원이 청구된다.\n",
    "\n",
    "민식 요금제는 60초마다 15원씩 청구된다. 이 말은 만약 59초 또는 그 보다 적은 시간 통화를 했으면 15원이 청구된다. 만약 60초부터 119초 사이로 통화를 했으면 30원이 청구된다.\n",
    "\n",
    "동호가 저번 달에 새악대로 T 통신사를 이용할 때 통화 시간 목록이 주어지면 어느 요금제를 사용 하는 것이 저렴한지 출력하는 프로그램을 작성하시오."
   ]
  },
  {
   "cell_type": "code",
   "execution_count": 35,
   "id": "27ed8402",
   "metadata": {},
   "outputs": [],
   "source": [
    "N = 3\n",
    "arr = [40, 40, 40]\n",
    "# answer\n",
    "# 영식 20 + 20 + 20 = 60\n",
    "# 민식 15 + 15 + 15 = 45\n",
    "# result = M 45"
   ]
  },
  {
   "cell_type": "code",
   "execution_count": 37,
   "id": "72cd100b",
   "metadata": {},
   "outputs": [],
   "source": [
    "N = 2\n",
    "arr = [61, 10]"
   ]
  },
  {
   "cell_type": "code",
   "execution_count": 39,
   "id": "035b657b",
   "metadata": {},
   "outputs": [],
   "source": [
    "N = 3\n",
    "arr = [61, 61, 61]"
   ]
  },
  {
   "cell_type": "code",
   "execution_count": 45,
   "id": "3caab129",
   "metadata": {},
   "outputs": [],
   "source": [
    "# 반례\n",
    "N = 2\n",
    "arr = [200, 400]\n",
    "# M 150"
   ]
  },
  {
   "cell_type": "code",
   "execution_count": 62,
   "id": "78085a46",
   "metadata": {},
   "outputs": [],
   "source": [
    "# 반례\n",
    "N = 1\n",
    "arr = 300\n",
    "# M 75"
   ]
  },
  {
   "cell_type": "code",
   "execution_count": 64,
   "id": "6a2f7146",
   "metadata": {
    "scrolled": true
   },
   "outputs": [
    {
     "name": "stdout",
     "output_type": "stream",
     "text": [
      "ys = 11, 110\n",
      "ms = 6, 90\n",
      "M 90\n"
     ]
    }
   ],
   "source": [
    "# 방법 1. 전부 계산해서 더하기\n",
    "# ndarray 사용, \n",
    "# (call//초)+(0 if call%초==0 else 1)\n",
    "# 전체 더하기 * 가격\n",
    "\n",
    "import numpy as np\n",
    "\n",
    "calls = np.array(arr)\n",
    "\n",
    "ys = calls\n",
    "ys[ys % 30 == 0] += 1\n",
    "ys = (calls + 30)//30\n",
    "print(f'ys = {ys}, {ys.sum() * 10}')\n",
    "ys = ys.sum() * 10\n",
    "\n",
    "ms = calls\n",
    "ms[ms % 60 == 0] += 1\n",
    "ms = (calls + 60)//60\n",
    "print(f'ms = {ms}, {ms.sum() * 15}')\n",
    "ms = ms.sum() * 15\n",
    "\n",
    "print(f'Y {ys}' if ys<ms  else f'Y M {ms}'if ys==ms  else f'M {ms}')\n",
    "\n",
    "# 실패"
   ]
  },
  {
   "cell_type": "code",
   "execution_count": 56,
   "id": "e88da1c5",
   "metadata": {},
   "outputs": [
    {
     "data": {
      "text/plain": [
       "array(301)"
      ]
     },
     "execution_count": 56,
     "metadata": {},
     "output_type": "execute_result"
    }
   ],
   "source": [
    "calls = np.array(arr)\n",
    "calls[calls % 30 == 0] += 1\n",
    "calls"
   ]
  },
  {
   "cell_type": "code",
   "execution_count": 65,
   "id": "c90a8268",
   "metadata": {},
   "outputs": [
    {
     "data": {
      "text/plain": [
       "array(301)"
      ]
     },
     "execution_count": 65,
     "metadata": {},
     "output_type": "execute_result"
    }
   ],
   "source": [
    "calls = np.array(arr)\n",
    "\n",
    "ms = calls\n",
    "ms[ms % 60 == 0] += 1\n",
    "ms"
   ]
  },
  {
   "cell_type": "code",
   "execution_count": null,
   "id": "0463d5b6",
   "metadata": {},
   "outputs": [],
   "source": [
    "# 30초 마다 10원, 60초마다 15원\n",
    "# 60초 통화를 했으면, 2*10, 1*15\n",
    "# 1~29 까지 30초로친다.\n",
    "# 30~59 까지 60초"
   ]
  },
  {
   "cell_type": "code",
   "execution_count": null,
   "id": "d9832159",
   "metadata": {},
   "outputs": [],
   "source": []
  }
 ],
 "metadata": {
  "kernelspec": {
   "display_name": "Python [conda env:machine] *",
   "language": "python",
   "name": "conda-env-machine-py"
  },
  "language_info": {
   "codemirror_mode": {
    "name": "ipython",
    "version": 3
   },
   "file_extension": ".py",
   "mimetype": "text/x-python",
   "name": "python",
   "nbconvert_exporter": "python",
   "pygments_lexer": "ipython3",
   "version": "3.8.12"
  }
 },
 "nbformat": 4,
 "nbformat_minor": 5
}
