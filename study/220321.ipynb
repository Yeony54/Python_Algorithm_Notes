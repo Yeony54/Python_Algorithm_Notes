{
 "cells": [
  {
   "cell_type": "markdown",
   "id": "989eeab8",
   "metadata": {},
   "source": [
    "### Coding Test 대비 6일차"
   ]
  },
  {
   "cell_type": "markdown",
   "id": "2c428b37",
   "metadata": {},
   "source": [
    "baekjoon > 1284"
   ]
  },
  {
   "cell_type": "markdown",
   "id": "49b22bc5",
   "metadata": {},
   "source": [
    "재석이는 대문에 붙이는 (주소를 나타내는) 호수판 제작업체의 직원이다. 고객에게 전달할 호수판은 숫자와 숫자 사이 그리고 왼쪽 오른쪽으로 적당히 여백이 들어가 줘야하고 숫자마다 차지하는 간격이 조금씩 상이하다. 다행이도 규칙은 매우 간단하다. \n",
    "\n",
    "1. 각 숫자 사이에는 1cm의 여백이 들어가야한다.\n",
    "2. 1은 2cm의 너비를 차지해야한다. 0은 4cm의 너비를 차지해야한다. 나머지 숫자는 모두 3cm의 너비를 차지한다.\n",
    "3. 호수판의 경계와 숫자 사이에는 1cm의 여백이 들어가야한다.\n",
    "\n",
    "예를 들어 위의 120 같은 경우,  각 숫자 사이에 여백이 1cm 씩 2개 들어간다. 1은 2cm, 2는 3cm, 0은 4cm를 차지한다. 오른쪽, 왼쪽 경계에서 각각 여백이 1cm씩 차지한다. 따라서 총 2 + 2 + 3 + 4 + 1 + 1 = 13(cm) 가 된다.\n",
    "\n",
    "재석이는 고객에게 전달해야할 호수판의 너비가 얼마나 되는지 궁금해졌다. 재석이를 도와주자!"
   ]
  },
  {
   "cell_type": "code",
   "execution_count": 3,
   "id": "0100cf02",
   "metadata": {},
   "outputs": [],
   "source": [
    "num = 120 # 13"
   ]
  },
  {
   "cell_type": "code",
   "execution_count": null,
   "id": "3651621d",
   "metadata": {},
   "outputs": [],
   "source": [
    "num = 5611 # 15"
   ]
  },
  {
   "cell_type": "code",
   "execution_count": null,
   "id": "de7289c0",
   "metadata": {},
   "outputs": [],
   "source": [
    "num = 100 # 14"
   ]
  },
  {
   "cell_type": "code",
   "execution_count": 4,
   "id": "f5b10cc4",
   "metadata": {},
   "outputs": [],
   "source": [
    "def solution(num):\n",
    "    res = 1\n",
    "    for n in str(num):\n",
    "        if n == '1':\n",
    "            res += 3\n",
    "        elif n == '0':\n",
    "            res += 5\n",
    "        else: res += 4\n",
    "            \n",
    "    return res"
   ]
  },
  {
   "cell_type": "code",
   "execution_count": 7,
   "id": "5cf95089",
   "metadata": {},
   "outputs": [
    {
     "data": {
      "text/plain": [
       "14"
      ]
     },
     "execution_count": 7,
     "metadata": {},
     "output_type": "execute_result"
    }
   ],
   "source": [
    "solution(100)"
   ]
  },
  {
   "cell_type": "markdown",
   "id": "69dde8ca",
   "metadata": {},
   "source": [
    "baekjoon > 1009"
   ]
  },
  {
   "cell_type": "markdown",
   "id": "b31227f4",
   "metadata": {},
   "source": [
    "재용이는 최신 컴퓨터 10대를 가지고 있다. 어느 날 재용이는 많은 데이터를 처리해야 될 일이 생겨서 각 컴퓨터에 1번부터 10번까지의 번호를 부여하고, 10대의 컴퓨터가 다음과 같은 방법으로 데이터들을 처리하기로 하였다.\n",
    "\n",
    "1번 데이터는 1번 컴퓨터, 2번 데이터는 2번 컴퓨터, 3번 데이터는 3번 컴퓨터, ... ,\n",
    "\n",
    "10번 데이터는 10번 컴퓨터, 11번 데이터는 1번 컴퓨터, 12번 데이터는 2번 컴퓨터, ...\n",
    "\n",
    "총 데이터의 개수는 항상 $a^b$개의 형태로 주어진다. 재용이는 문득 마지막 데이터가 처리될 컴퓨터의 번호가 궁금해졌다. 이를 수행해주는 프로그램을 작성하라."
   ]
  },
  {
   "cell_type": "code",
   "execution_count": 8,
   "id": "5a897767",
   "metadata": {},
   "outputs": [],
   "source": [
    "a = 1\n",
    "b = 1"
   ]
  },
  {
   "cell_type": "code",
   "execution_count": 23,
   "id": "f6274492",
   "metadata": {},
   "outputs": [],
   "source": [
    "def solution(a, b):\n",
    "    num = a\n",
    "    if a == 1:\n",
    "        return 1\n",
    "    for i in range(1,b):\n",
    "        num = int(str(num * a)[-1])\n",
    "    return (10 if num == 0 else num)"
   ]
  },
  {
   "cell_type": "code",
   "execution_count": 26,
   "id": "4737e660",
   "metadata": {},
   "outputs": [
    {
     "data": {
      "text/plain": [
       "9"
      ]
     },
     "execution_count": 26,
     "metadata": {},
     "output_type": "execute_result"
    }
   ],
   "source": [
    "solution(9, 635)"
   ]
  },
  {
   "cell_type": "code",
   "execution_count": null,
   "id": "47ca51ef",
   "metadata": {},
   "outputs": [],
   "source": []
  }
 ],
 "metadata": {
  "kernelspec": {
   "display_name": "Python [conda env:machine] *",
   "language": "python",
   "name": "conda-env-machine-py"
  },
  "language_info": {
   "codemirror_mode": {
    "name": "ipython",
    "version": 3
   },
   "file_extension": ".py",
   "mimetype": "text/x-python",
   "name": "python",
   "nbconvert_exporter": "python",
   "pygments_lexer": "ipython3",
   "version": "3.8.12"
  }
 },
 "nbformat": 4,
 "nbformat_minor": 5
}
