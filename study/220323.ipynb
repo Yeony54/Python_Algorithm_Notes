{
 "cells": [
  {
   "cell_type": "markdown",
   "id": "24e4a96a",
   "metadata": {},
   "source": [
    "### Coding Test 대비 8일차\n",
    "baekjoon > 1085\n",
    "\n",
    "한수는 지금 (x, y)에 있다. 직사각형은 각 변이 좌표축에 평행하고, 왼쪽 아래 꼭짓점은 (0, 0), 오른쪽 위 꼭짓점은 (w, h)에 있다. 직사각형의 경계선까지 가는 거리의 최솟값을 구하는 프로그램을 작성하시오."
   ]
  },
  {
   "cell_type": "markdown",
   "id": "27d4755e",
   "metadata": {},
   "source": [
    "- ~~\\[(0,0), (0,h), (w,0), (w,h)\\] 각각에 해당하는 짧은 거리를 찾아서 제일 짧은것을 출력~~\n",
    "- h-y, y, x, w-x 비교후 제일 작은거 출력\n",
    "- 직선거리가 대각선길이보다 짧다."
   ]
  },
  {
   "cell_type": "code",
   "execution_count": 49,
   "id": "ca7d8ba9",
   "metadata": {},
   "outputs": [],
   "source": [
    "def solution(x, y, w, h):\n",
    "    return min([h-y, y, x, w-x])"
   ]
  },
  {
   "cell_type": "code",
   "execution_count": 50,
   "id": "5483feb7",
   "metadata": {},
   "outputs": [
    {
     "data": {
      "text/plain": [
       "1"
      ]
     },
     "execution_count": 50,
     "metadata": {},
     "output_type": "execute_result"
    }
   ],
   "source": [
    "solution(6,2,10,3)"
   ]
  },
  {
   "cell_type": "markdown",
   "id": "a1bf7962",
   "metadata": {},
   "source": [
    "baekjoon > 1212\n",
    "\n",
    "8진수가 주어졌을 때, 2진수로 변환하는 프로그램을 작성하시오."
   ]
  },
  {
   "cell_type": "markdown",
   "id": "df9e8be2",
   "metadata": {},
   "source": [
    "- 2진수의 3자리는 8진수의 한자리이다.\n",
    "- 8진수의 하나를 2진수로 변환해서 출력\n",
    "\n",
    "---\n",
    "\n",
    "- (best) 진수 변환 프로그램으로 만들면 좋겠다.\n",
    "- 8진수를 2로 나눌때 나머지를 앞에 계속 넣어주면 된다~!\n",
    "- 72<sub>(8)</sub> -> 1 1 1 0 1 0\n",
    "\n",
    "- "
   ]
  },
  {
   "cell_type": "code",
   "execution_count": null,
   "id": "80d23e6c",
   "metadata": {},
   "outputs": [],
   "source": []
  }
 ],
 "metadata": {
  "kernelspec": {
   "display_name": "Python [conda env:machine] *",
   "language": "python",
   "name": "conda-env-machine-py"
  },
  "language_info": {
   "codemirror_mode": {
    "name": "ipython",
    "version": 3
   },
   "file_extension": ".py",
   "mimetype": "text/x-python",
   "name": "python",
   "nbconvert_exporter": "python",
   "pygments_lexer": "ipython3",
   "version": "3.8.12"
  }
 },
 "nbformat": 4,
 "nbformat_minor": 5
}
