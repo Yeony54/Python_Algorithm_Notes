{
 "cells": [
  {
   "cell_type": "markdown",
   "id": "58eb927b",
   "metadata": {},
   "source": [
    "### Coding Test 대비 9일차"
   ]
  },
  {
   "cell_type": "markdown",
   "id": "e07f62b1",
   "metadata": {},
   "source": [
    "baekjoon > 2163\n",
    "\n",
    "정화는 N×M 크기의 초콜릿을 하나 가지고 있다. 초콜릿은 금이 가 있는 모양을 하고 있으며, 그 금에 의해 N×M개의 조각으로 나눠질 수 있다.\n",
    "\n",
    "초콜릿의 크기가 너무 크다고 생각한 그녀는 초콜릿을 친구들과 나눠 먹기로 했다. 이를 위해서 정화는 초콜릿을 계속 쪼개서 총 N×M개의 조각으로 쪼개려고 한다. 초콜릿을 쪼갤 때에는 초콜릿 조각을 하나 들고, 적당한 위치에서 초콜릿을 쪼갠다. 초콜릿을 쪼갤 때에는 금이 가 있는 위치에서만 쪼갤 수 있다. 이와 같이 초콜릿을 쪼개면 초콜릿은 두 개의 조각으로 나눠지게 된다. 이제 다시 이 중에서 초콜릿 조각을 하나 들고, 쪼개는 과정을 반복하면 된다.\n",
    "\n",
    "초콜릿을 쪼개다보면 초콜릿이 녹을 수 있기 때문에, 정화는 가급적이면 초콜릿을 쪼개는 횟수를 최소로 하려 한다. 초콜릿의 크기가 주어졌을 때, 이를 1×1 크기의 초콜릿으로 쪼개기 위한 최소 쪼개기 횟수를 구하는 프로그램을 작성하시오."
   ]
  },
  {
   "cell_type": "markdown",
   "id": "764a1848",
   "metadata": {},
   "source": [
    "- 한번 자르면 두개가 되고 다음 과정에서는 두번 잘라야 한다.\n",
    "- ~~2x2 (가로가 1로되기까지 몇번잘라야하는지) + (세로가 1로 되기까지 몇번 잘라야 하는지)x2~~\n",
    "- NxN 일때\n",
    "\n",
    "    - 처음 가로로 자른다.\n",
    "    - 만약 3칸짜리이면 2번을 자르면 된다.\n",
    "    \n",
    "    - 두번쨰 세로를 자른다.\n",
    "    - 만약 3칸짜리이면 2번을 자르면 된다.\n",
    "    - 가로를 이미 잘랐기 때문에 잘라진 개수만큼 반복해야한다.\n",
    "      =>  2x3\n",
    "    \n",
    "    - 총 자른 횟수 : 2 + 2x3\n",
    "    \n",
    "- NxM 일때\n",
    "    \n",
    "    - N-1 번을 자른다.\n",
    "    - M-1 번을 N번 자른다.\n",
    "    - 총 자른 횟수 : N-1 + (M-1)xN\n",
    "    \n",
    "    - N-1 + (M-1)xN , M-1 + (N-1)xM 어느게 더 작은지 보고 출력"
   ]
  },
  {
   "cell_type": "code",
   "execution_count": 4,
   "id": "ccf0b700",
   "metadata": {},
   "outputs": [],
   "source": [
    "def solution(N, M):\n",
    "    \n",
    "    res = [N-1 + (M-1)*N, M-1 + (N-1)*M]\n",
    "    print(res)\n",
    "    \n",
    "    return max(res)"
   ]
  },
  {
   "cell_type": "code",
   "execution_count": 6,
   "id": "5a019f1c",
   "metadata": {},
   "outputs": [
    {
     "name": "stdout",
     "output_type": "stream",
     "text": [
      "[1999, 1999]\n"
     ]
    },
    {
     "data": {
      "text/plain": [
       "1999"
      ]
     },
     "execution_count": 6,
     "metadata": {},
     "output_type": "execute_result"
    }
   ],
   "source": [
    "solution(10,200)"
   ]
  },
  {
   "cell_type": "code",
   "execution_count": null,
   "id": "51a9ea7f",
   "metadata": {},
   "outputs": [],
   "source": []
  }
 ],
 "metadata": {
  "kernelspec": {
   "display_name": "Python [conda env:machine] *",
   "language": "python",
   "name": "conda-env-machine-py"
  },
  "language_info": {
   "codemirror_mode": {
    "name": "ipython",
    "version": 3
   },
   "file_extension": ".py",
   "mimetype": "text/x-python",
   "name": "python",
   "nbconvert_exporter": "python",
   "pygments_lexer": "ipython3",
   "version": "3.8.12"
  }
 },
 "nbformat": 4,
 "nbformat_minor": 5
}
