{
 "cells": [
  {
   "cell_type": "markdown",
   "id": "e1d17813",
   "metadata": {},
   "source": [
    "baekjoon > 1547\n",
    "\n",
    "세준이는 컵 3개를 탁자 위에 일렬로 엎어놓았다.  \n",
    "컵의 번호는 맨 왼쪽 컵부터 순서대로 1번, 2번 3번이고, 세준이는 이 컵을 이용해서 게임을 하려고 한다.  \n",
    "\n",
    "먼저 1번 컵의 아래에 공을 하나 넣는다.   \n",
    "세준이는 두 컵을 고른 다음, 그 위치를 맞바꾸려고 한다.   \n",
    "예를 들어, 고른 컵이 1번과 2번이라면, 1번 컵이 있던 위치에 2번 컵을 이동시키고,   \n",
    "동시에 2번 컵이 있던 위치에 1번 컵을 이동시켜야 한다.   \n",
    "이때 공은 움직이지 않기 때문에, 공의 위치는 맨 처음 1번 컵이 있던 위치와 같다.  \n",
    "\n",
    "세준이는 컵의 위치를 총 M번 바꿀 것이며,   \n",
    "컵의 위치를 바꾼 방법이 입력으로 주어진다.   \n",
    "위치를 M번 바꾼 이후에 공이 들어있는 컵의 번호를 구하는 프로그램을 작성하시오."
   ]
  },
  {
   "cell_type": "code",
   "execution_count": 1,
   "id": "2c486ad0",
   "metadata": {},
   "outputs": [],
   "source": [
    "# 백준 코드\n",
    "# import sys\n",
    "# M = int(sys.stdin.readline())\n",
    "\n",
    "# ball = 1\n",
    "# for m in range(M):\n",
    "#     X,Y = map(int, sys.stdin.readline().split())\n",
    "#     if ball in [X,Y]:\n",
    "#         if X != ball : ball = X\n",
    "#         else: ball = Y\n",
    "\n",
    "# print(ball)"
   ]
  },
  {
   "cell_type": "code",
   "execution_count": null,
   "id": "42bd029d",
   "metadata": {},
   "outputs": [],
   "source": []
  }
 ],
 "metadata": {
  "kernelspec": {
   "display_name": "Python [conda env:machine] *",
   "language": "python",
   "name": "conda-env-machine-py"
  },
  "language_info": {
   "codemirror_mode": {
    "name": "ipython",
    "version": 3
   },
   "file_extension": ".py",
   "mimetype": "text/x-python",
   "name": "python",
   "nbconvert_exporter": "python",
   "pygments_lexer": "ipython3",
   "version": "3.8.12"
  }
 },
 "nbformat": 4,
 "nbformat_minor": 5
}
