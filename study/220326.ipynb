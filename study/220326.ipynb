{
 "cells": [
  {
   "cell_type": "markdown",
   "id": "82d287d1",
   "metadata": {},
   "source": [
    "baekjoon > 1964\n",
    "\n",
    "오각형의 각 변에 아래 그림과 같이 점을 찍어 나간다. N단계에서 점의 개수는 모두 몇 개일까?\n",
    "\n",
    "- 첫째 줄에 N(1 ≤ N ≤ 10,000,000)이 주어진다.\n",
    "- 첫째 줄에 N단계에서 점의 개수를 45678로 나눈 나머지를 출력한다."
   ]
  },
  {
   "cell_type": "markdown",
   "id": "cdc419b3",
   "metadata": {},
   "source": [
    "** 푼 방법 **\n",
    "- 맨 마지막에 있는 오각형만 다 세어주고, 나머지는 두 변을 뺀만큼만 더해준다.\n",
    "- N * 5 : 마지막 5각형 점 개수\n",
    "- n * 3 -1 : 안의 5각형 겹치지 않는 점 개수\n",
    "- n 부터 1까지의 합 : (n+1)*n/2\n",
    "\n",
    "- n = N-1\n",
    "- (N\\*5) + ((n+1)\\*n/2)*3 - n"
   ]
  },
  {
   "cell_type": "code",
   "execution_count": 20,
   "id": "25394e04",
   "metadata": {},
   "outputs": [],
   "source": [
    "def solution(N):\n",
    "    if N == 0: return 0\n",
    "    return int((N*5) +  (N*(N-1)/2)*3-(N-1))%45678"
   ]
  },
  {
   "cell_type": "code",
   "execution_count": 21,
   "id": "7a984c20",
   "metadata": {},
   "outputs": [
    {
     "data": {
      "text/plain": [
       "0"
      ]
     },
     "execution_count": 21,
     "metadata": {},
     "output_type": "execute_result"
    }
   ],
   "source": [
    "solution(0)"
   ]
  },
  {
   "cell_type": "code",
   "execution_count": null,
   "id": "a65bc21c",
   "metadata": {},
   "outputs": [],
   "source": []
  }
 ],
 "metadata": {
  "kernelspec": {
   "display_name": "Python [conda env:machine] *",
   "language": "python",
   "name": "conda-env-machine-py"
  },
  "language_info": {
   "codemirror_mode": {
    "name": "ipython",
    "version": 3
   },
   "file_extension": ".py",
   "mimetype": "text/x-python",
   "name": "python",
   "nbconvert_exporter": "python",
   "pygments_lexer": "ipython3",
   "version": "3.8.12"
  }
 },
 "nbformat": 4,
 "nbformat_minor": 5
}
