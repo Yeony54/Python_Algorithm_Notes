{
 "cells": [
  {
   "cell_type": "markdown",
   "id": "885aacea",
   "metadata": {},
   "source": [
    "baekjoon > 1703\n",
    "\n",
    "입력의 각 줄은 하나의 branchorama 나무를 의미합니다.\n",
    "\n",
    "각 줄은 나무의 나이 a(1 ≤ a ≤ 20)로 시작하며, 그 뒤로 2a 개의 정수가 공백을 두고 주어집니다. 2a 개의 정수는 splitting factor와 가지치기 한 가지의 수가 level 별로 나열된 것입니다.\n",
    "\n",
    "마지막 줄로  '0'이 주어지며 더 이상의 입력은 없습니다. '0'은 처리하지 않습니다.\n",
    "\n",
    "1. tree를 입력받는다\n",
    "2. tree의 첫번째 숫자 : 나무의 나이\n",
    "3. tree의 첫번째 숫자 이후 2a개를 이중 list로 묶는다.\n",
    "4. res 에 branch 개수만큼 곱하고, 가지치기 개수만큼 뺀다"
   ]
  },
  {
   "cell_type": "code",
   "execution_count": 6,
   "id": "380a0a86",
   "metadata": {},
   "outputs": [],
   "source": [
    "tree = [3, 3, 0, 2, 0, 2, 0]"
   ]
  },
  {
   "cell_type": "code",
   "execution_count": 10,
   "id": "bdd7b4c2",
   "metadata": {},
   "outputs": [],
   "source": [
    "def solution(tree):\n",
    "    N = tree[0]\n",
    "    t_list = [[tree[i],tree[i+1]] for i in range(1,len(tree[1:]),2)]\n",
    "    res = 1\n",
    "    for t in t_list:\n",
    "        res = res*t[0]-t[1]\n",
    "    return res"
   ]
  },
  {
   "cell_type": "code",
   "execution_count": 11,
   "id": "3c7b0bc1",
   "metadata": {
    "scrolled": true
   },
   "outputs": [
    {
     "name": "stdout",
     "output_type": "stream",
     "text": [
      "12\n"
     ]
    }
   ],
   "source": [
    "print(solution(tree))"
   ]
  },
  {
   "cell_type": "code",
   "execution_count": null,
   "id": "deb19a41",
   "metadata": {},
   "outputs": [],
   "source": [
    "# 백준코드\n",
    "'''\n",
    "import sys\n",
    "while(1):\n",
    "    tree = list(map(int, sys.stdin.readline().split()))\n",
    "    if tree == [0] : break\n",
    "    else :\n",
    "        def solution(tree):\n",
    "            N = tree[0]\n",
    "            t_list = [[tree[i],tree[i+1]] for i in range(1,len(tree[1:]),2)]\n",
    "            res = 1\n",
    "            for t in t_list:\n",
    "                res = res*t[0]-t[1]\n",
    "            return res\n",
    "\n",
    "        print(solution(tree))\n",
    "'''"
   ]
  },
  {
   "cell_type": "markdown",
   "id": "b5b2a125",
   "metadata": {},
   "source": [
    "baekjoon > 1975\n",
    "\n",
    "창영이는 심심해서 혼자 재미 없는 게임을 하나 생각해냈다. 숫자 N을 먼저 정하고, 이 숫자를 2진법, 3진법, 4진법, ..., 100만진법, 100만 1진법 등등으로 바꾸어 보면서, 마지막자리에 연속된 0의 개수를 모두 더하는 것이다.\n",
    "\n",
    "예를 들어 N=5라면, 2진법 101, 3진법 12, 4진법 11, 5진법 10, 6진법 5, 7진법 5, ... 등과 같으므로 답은 1이 된다. 여러분이 할 일은 주어진 N에 대해서 창영이가 구한 답을 찾는 것이다."
   ]
  },
  {
   "cell_type": "markdown",
   "id": "7c9acdce",
   "metadata": {},
   "source": [
    "- N 보다 작거나 같은 숫자중에서 0으로 나누어 떨어지는것의 수\n",
    "- 약수의 수"
   ]
  },
  {
   "cell_type": "code",
   "execution_count": 26,
   "id": "c6089bf8",
   "metadata": {},
   "outputs": [],
   "source": [
    "N_list = [3, 6, 9, 25]"
   ]
  },
  {
   "cell_type": "code",
   "execution_count": 37,
   "id": "c2b7d098",
   "metadata": {},
   "outputs": [],
   "source": [
    "N_list = [ 10, 1, 2, 3, 4, 5, 6, 7, 8, 9, 10]"
   ]
  },
  {
   "cell_type": "code",
   "execution_count": 47,
   "id": "5bb6a39d",
   "metadata": {},
   "outputs": [],
   "source": [
    "N_list = [ 10, 11, 12, 13, 14, 15, 16, 17, 18, 19, 20]"
   ]
  },
  {
   "cell_type": "code",
   "execution_count": 48,
   "id": "b06074ef",
   "metadata": {},
   "outputs": [],
   "source": [
    "# 그냥구해보기\n",
    "\n",
    "N = N_list[0]\n",
    "b_list = N_list[1:]\n",
    "\n",
    "# def solution(N, b_list):\n",
    "#     for b in b_list:\n",
    "#         res = 1\n",
    "#         if b == 1 : print(0)\n",
    "#         elif b == 2 : print(1)\n",
    "#         elif b == 3 : print(1)\n",
    "#         elif b == 4 : print(2)\n",
    "#         else:\n",
    "#             if b**(1/2) == int(b**(1/2)) : res += 1\n",
    "#             if b%2 == 0 : res += 1\n",
    "#             for i in range(3,int(b**(1/2))+1, 2):\n",
    "#                 print(f'i={i}')\n",
    "#                 if b%i == 0 : res += 2   \n",
    "#             print(res)\n",
    "\n",
    "def solution(N, b_list):\n",
    "    for b in b_list:\n",
    "        res = {1,b}\n",
    "        if b%2 == 0 : \n",
    "            res.add(2)\n",
    "            res.add(b//2)\n",
    "        for i in range(3, int(b**1/2)+1, 2):\n",
    "            if b%i == 0:\n",
    "                res.add(i)\n",
    "                res.add(b//i)\n",
    "        print(res)\n",
    "        print(len(res)-1)"
   ]
  },
  {
   "cell_type": "code",
   "execution_count": 49,
   "id": "46e3d546",
   "metadata": {},
   "outputs": [
    {
     "name": "stdout",
     "output_type": "stream",
     "text": [
      "{1, 11}\n",
      "1\n",
      "{1, 2, 3, 4, 6, 12}\n",
      "5\n",
      "{1, 13}\n",
      "1\n",
      "{1, 2, 14, 7}\n",
      "3\n",
      "{1, 3, 5, 15}\n",
      "3\n",
      "{16, 1, 2, 8}\n",
      "3\n",
      "{1, 17}\n",
      "1\n",
      "{1, 2, 3, 6, 9, 18}\n",
      "5\n",
      "{1, 19}\n",
      "1\n",
      "{1, 2, 4, 5, 10, 20}\n",
      "5\n"
     ]
    }
   ],
   "source": [
    "solution(N_list[0], N_list[1:])"
   ]
  },
  {
   "cell_type": "markdown",
   "id": "b443391a",
   "metadata": {},
   "source": [
    "- 작은수 잘나오고..\n",
    "- 제곱수 잘나오고..\n",
    "- 뭐가문제인지 모르겠다.."
   ]
  },
  {
   "cell_type": "markdown",
   "id": "317ef320",
   "metadata": {},
   "source": [
    "baekjoon > 1212\n",
    "\n",
    "8진수가 주어졌을 때, 2진수로 변환하는 프로그램을 작성하시오."
   ]
  },
  {
   "cell_type": "code",
   "execution_count": 67,
   "id": "71aed580",
   "metadata": {},
   "outputs": [],
   "source": [
    "N = '314'"
   ]
  },
  {
   "cell_type": "code",
   "execution_count": 85,
   "id": "2d0927fa",
   "metadata": {},
   "outputs": [],
   "source": [
    "def solution(N):\n",
    "    res = []\n",
    "    for n in N:\n",
    "        num = int(n)\n",
    "        for i in range(len(N)):\n",
    "            print(num)\n",
    "            res.append(str(num%2))\n",
    "            num//=2\n",
    "        print(res)\n",
    "    return ''.join(res)"
   ]
  },
  {
   "cell_type": "code",
   "execution_count": 65,
   "id": "acfb1fdd",
   "metadata": {},
   "outputs": [
    {
     "name": "stdout",
     "output_type": "stream",
     "text": [
      "['1', '2', '3', '4', '5']\n",
      "['5', '4', '3', '2', '1']\n",
      "54321\n"
     ]
    }
   ],
   "source": [
    "oh = ['1', '2', '3', '4', '5']\n",
    "# oh.reverse()\n",
    "print(oh)\n",
    "print(list(reversed(oh)))\n",
    "print(''.join(list(reversed(oh))))"
   ]
  },
  {
   "cell_type": "code",
   "execution_count": null,
   "id": "f24b3288",
   "metadata": {},
   "outputs": [],
   "source": [
    "# 메모리 초과\n",
    "# import sys\n",
    "# N = int(sys.stdin.readline())\n",
    "# N = str(N)\n",
    "\n",
    "# def solution(N):\n",
    "#     res = []\n",
    "#     for n in N:\n",
    "#         num = int(n)\n",
    "#         for i in range(len(N)):\n",
    "#             res.append(str(num%2))\n",
    "#             num//=2\n",
    "#     return ''.join(res)\n",
    "\n",
    "# print(solution(N))"
   ]
  },
  {
   "cell_type": "code",
   "execution_count": null,
   "id": "7ec369b9",
   "metadata": {},
   "outputs": [],
   "source": [
    "def solution(N):\n",
    "    "
   ]
  }
 ],
 "metadata": {
  "kernelspec": {
   "display_name": "Python [conda env:machine] *",
   "language": "python",
   "name": "conda-env-machine-py"
  },
  "language_info": {
   "codemirror_mode": {
    "name": "ipython",
    "version": 3
   },
   "file_extension": ".py",
   "mimetype": "text/x-python",
   "name": "python",
   "nbconvert_exporter": "python",
   "pygments_lexer": "ipython3",
   "version": "3.8.12"
  }
 },
 "nbformat": 4,
 "nbformat_minor": 5
}
