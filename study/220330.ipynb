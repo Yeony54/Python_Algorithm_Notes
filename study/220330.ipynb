{
 "cells": [
  {
   "cell_type": "markdown",
   "id": "717ce088",
   "metadata": {},
   "source": [
    "baekjoon > 2355\n",
    "\n",
    "두 정수 A와 B가 주어졌을 때, 두 정수 사이에 있는 수의 합을 구하는 프로그램을 작성하시오. 사이에 있는 수들은 A와 B도 포함한다."
   ]
  },
  {
   "cell_type": "code",
   "execution_count": 12,
   "id": "67009d19",
   "metadata": {},
   "outputs": [],
   "source": [
    "def solution(A, B):\n",
    "    return int((A+B)*(abs(A-B)+1)/2)"
   ]
  },
  {
   "cell_type": "code",
   "execution_count": 13,
   "id": "ca4e9779",
   "metadata": {},
   "outputs": [
    {
     "data": {
      "text/plain": [
       "-2147483648"
      ]
     },
     "execution_count": 13,
     "metadata": {},
     "output_type": "execute_result"
    }
   ],
   "source": [
    "solution(-2147483648, 2147483647)"
   ]
  },
  {
   "cell_type": "markdown",
   "id": "c6a0a532",
   "metadata": {},
   "source": [
    "baekjoon > 12840\n",
    "\n",
    "창용이는 여름을 맞이하여 ‘정창용’ 이름이 쓰인 한정판 섬머 에디션 시계를 구입했다. 왠지 오늘은 001도 가고 싶지 않고 시계를 가지고 놀고만 싶다. 우린 방에 있는 창용이가 시계를 가지고 뭘 하는지 궁금하기만 하다. 창용이는 시계의 건전지를 분리했기 때문에 시계는 시간이 흐르지 않는다.\n",
    "\n",
    "창용이는 앞으로 시계를 돌리기도 하고 뒤로 시계를 돌리기도 한다. 입력으로는 초기 현재 시간이 주어지고 q개의 쿼리가 주어진다.\n",
    "\n",
    "한 쿼리는 T로 시작한다. (1 ≤ T ≤ 3, 0 ≤ c ≤ 10,000,000)\n",
    "\n",
    "T가 1일 때는 c를 입력으로 받아와서, 시계를 앞으로 c초 돌린다.\n",
    "T가 2일 때는 c를 입력으로 받아와서, 시계를 뒤로 c초 돌린다.\n",
    "T가 3일 때는 창용이가 조작한 시계의 상황을 출력한다."
   ]
  },
  {
   "cell_type": "code",
   "execution_count": null,
   "id": "07157343",
   "metadata": {},
   "outputs": [],
   "source": [
    "# 백준코드\n",
    "'''\n",
    "import sys\n",
    "\n",
    "h, m, s = map(int, sys.stdin.readline().split())\n",
    "N = int(sys.stdin.readline())\n",
    "\n",
    "def solution(N, h, m, s):\n",
    "    sec = h*3600 + m*60 + s\n",
    "    read_in = []\n",
    "    for i in range(N):\n",
    "        read_in = list(map(int, sys.stdin.readline().split()))\n",
    "        if read_in[0] == 3:\n",
    "            print(sec//3600, (sec%3600)//60, (sec%60))\n",
    "        elif read_in[0] == 1:\n",
    "            sec += read_in[1]\n",
    "            sec = sec%86400\n",
    "        else:\n",
    "            sec -= read_in[1]\n",
    "            sec = sec%86400\n",
    "\n",
    "solution(N, h, m, s)\n",
    "'''"
   ]
  },
  {
   "cell_type": "markdown",
   "id": "230f671d",
   "metadata": {},
   "source": [
    "baekjoon > 23972\n",
    "\n",
    "어느 날, 민주는 꿈에서 악마를 만나게 되었다. 악마는 자신에게 K원을 지불하면, 지불하고 남은 금액을 N배로 만들어준다고 한다.\n",
    "\n",
    "민주는 자신이 최소 몇 원을 가지고 있어야 악마에게 K원을 지불했을 때 손해를 보지 않는지 알고 싶다.\n",
    "\n",
    "악마가 제안한 K와 N이 주어졌을 때, 민주가 손해 보지 않기 위해 가지고 있어야 하는 최소 금액 X를 구해주자. 단, 금액은 정수여야 한다."
   ]
  },
  {
   "cell_type": "markdown",
   "id": "83042454",
   "metadata": {},
   "source": [
    "- (X-K)*N = X\n",
    "- (NK)/(N-1) = X"
   ]
  },
  {
   "cell_type": "code",
   "execution_count": 21,
   "id": "de25a7e9",
   "metadata": {},
   "outputs": [],
   "source": [
    "def solution(K, N):\n",
    "    if N == 1: return -1\n",
    "    return int((N*K)/(N-1))"
   ]
  },
  {
   "cell_type": "code",
   "execution_count": 22,
   "id": "b4fc34ee",
   "metadata": {},
   "outputs": [
    {
     "data": {
      "text/plain": [
       "54"
      ]
     },
     "execution_count": 22,
     "metadata": {},
     "output_type": "execute_result"
    }
   ],
   "source": [
    "solution(36,3)"
   ]
  },
  {
   "cell_type": "code",
   "execution_count": null,
   "id": "5f769fb8",
   "metadata": {},
   "outputs": [],
   "source": [
    "# 어려웡 왜안돼"
   ]
  }
 ],
 "metadata": {
  "kernelspec": {
   "display_name": "Python [conda env:machine] *",
   "language": "python",
   "name": "conda-env-machine-py"
  },
  "language_info": {
   "codemirror_mode": {
    "name": "ipython",
    "version": 3
   },
   "file_extension": ".py",
   "mimetype": "text/x-python",
   "name": "python",
   "nbconvert_exporter": "python",
   "pygments_lexer": "ipython3",
   "version": "3.8.12"
  }
 },
 "nbformat": 4,
 "nbformat_minor": 5
}
