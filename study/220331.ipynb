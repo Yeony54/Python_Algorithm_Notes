{
 "cells": [
  {
   "cell_type": "markdown",
   "id": "b65f42e9",
   "metadata": {},
   "source": [
    "baekjoon > 23805\n",
    "\n",
    "서준이는 아빠로부터 골뱅이가 들어 있는 상자를 생일 선물로 받았다. 상자 안에는 반시계방향으로 90도 돌아간 ㄹ자 모양의 골뱅이가 들어있다. 돌아간 ㄹ자 모양은 가로 및 세로로 각각 5개의 셀로 구성되어 있다. 상자에는 정사각형 모양의 셀의 크기를 나타내는 숫자 하나가 적혀있다. 셀의 크기 N이 주어지면 예제 출력과 같은 방식으로 골뱅이 모양을 출력하시오."
   ]
  },
  {
   "cell_type": "code",
   "execution_count": 13,
   "id": "93e78320",
   "metadata": {},
   "outputs": [],
   "source": [
    "N = 3"
   ]
  },
  {
   "cell_type": "code",
   "execution_count": 14,
   "id": "bad9931f",
   "metadata": {},
   "outputs": [],
   "source": [
    "result = []\n",
    "for i in range(N):\n",
    "    result.append('@'*3*N + ' '*N + '@'*N)\n",
    "for i in range(3*N):\n",
    "    result.append('@'*N + ' '*N + '@'*N + ' '*N + '@'*N)\n",
    "for i in range(N):\n",
    "    result.append('@'*N + ' '*N + '@'*3*N)\n",
    "        "
   ]
  },
  {
   "cell_type": "code",
   "execution_count": 15,
   "id": "fb38f673",
   "metadata": {},
   "outputs": [
    {
     "name": "stdout",
     "output_type": "stream",
     "text": [
      "@@@@@@@@@   @@@\n",
      "@@@@@@@@@   @@@\n",
      "@@@@@@@@@   @@@\n",
      "@@@   @@@   @@@\n",
      "@@@   @@@   @@@\n",
      "@@@   @@@   @@@\n",
      "@@@   @@@   @@@\n",
      "@@@   @@@   @@@\n",
      "@@@   @@@   @@@\n",
      "@@@   @@@   @@@\n",
      "@@@   @@@   @@@\n",
      "@@@   @@@   @@@\n",
      "@@@   @@@@@@@@@\n",
      "@@@   @@@@@@@@@\n",
      "@@@   @@@@@@@@@\n"
     ]
    }
   ],
   "source": [
    "for r in result:\n",
    "    print(r)"
   ]
  },
  {
   "cell_type": "markdown",
   "id": "689e4188",
   "metadata": {},
   "source": [
    "baekjoon > 23808\n",
    "\n",
    "서준이는 아빠로부터 골뱅이가 들어 있는 상자를 생일 선물로 받았다. 상자 안에는 ㅂ자 모양의 골뱅이가 들어있다. ㅂ자 모양은 가로 및 세로로 각각 5개의 셀로 구성되어 있다. 상자에는 정사각형 모양의 셀의 크기를 나타내는 숫자 하나가 적혀있다. 셀의 크기 N이 주어지면 예제 출력과 같은 방식으로 골뱅이 모양을 출력하시오."
   ]
  },
  {
   "cell_type": "code",
   "execution_count": 19,
   "id": "dcb46cc5",
   "metadata": {},
   "outputs": [],
   "source": [
    "N = 3"
   ]
  },
  {
   "cell_type": "code",
   "execution_count": 20,
   "id": "245ed6c9",
   "metadata": {},
   "outputs": [],
   "source": [
    "result = []\n",
    "for i in range(2*N):\n",
    "    result.append('@'*N + ' '*3*N + '@'*N)\n",
    "for i in range(N):\n",
    "    result.append('@'*5*N)\n",
    "for i in range(N):\n",
    "    result.append('@'*N + ' '*3*N + '@'*N)\n",
    "for i in range(N):\n",
    "    result.append('@'*5*N)\n",
    "        "
   ]
  },
  {
   "cell_type": "code",
   "execution_count": 21,
   "id": "8b183b7e",
   "metadata": {},
   "outputs": [
    {
     "name": "stdout",
     "output_type": "stream",
     "text": [
      "@@@         @@@\n",
      "@@@         @@@\n",
      "@@@         @@@\n",
      "@@@         @@@\n",
      "@@@         @@@\n",
      "@@@         @@@\n",
      "@@@@@@@@@@@@@@@\n",
      "@@@@@@@@@@@@@@@\n",
      "@@@@@@@@@@@@@@@\n",
      "@@@         @@@\n",
      "@@@         @@@\n",
      "@@@         @@@\n",
      "@@@@@@@@@@@@@@@\n",
      "@@@@@@@@@@@@@@@\n",
      "@@@@@@@@@@@@@@@\n"
     ]
    }
   ],
   "source": [
    "for r in result:\n",
    "    print(r)"
   ]
  },
  {
   "cell_type": "code",
   "execution_count": null,
   "id": "b76a371f",
   "metadata": {},
   "outputs": [],
   "source": []
  }
 ],
 "metadata": {
  "kernelspec": {
   "display_name": "Python [conda env:machine_TF15] *",
   "language": "python",
   "name": "conda-env-machine_TF15-py"
  },
  "language_info": {
   "codemirror_mode": {
    "name": "ipython",
    "version": 3
   },
   "file_extension": ".py",
   "mimetype": "text/x-python",
   "name": "python",
   "nbconvert_exporter": "python",
   "pygments_lexer": "ipython3",
   "version": "3.7.13"
  }
 },
 "nbformat": 4,
 "nbformat_minor": 5
}
