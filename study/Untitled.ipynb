{
 "cells": [
  {
   "cell_type": "markdown",
   "id": "cc0d90aa-0882-491f-868b-d56239d8a853",
   "metadata": {},
   "source": [
    "## Code Test 대비 1일차 Warming Up"
   ]
  },
  {
   "cell_type": "markdown",
   "id": "a173576e-b54a-42de-95cb-96558890ac80",
   "metadata": {},
   "source": [
    "#### Baeckjoon> 2753 윤년\n",
    "\n",
    "연도가 주어졌을 때, 윤년이면 1, 아니면 0을 출력하는 프로그램을 작성하시오.\n",
    "\n",
    "윤년은 연도가 4의 배수이면서, 100의 배수가 아닐 때 또는 400의 배수일 때이다.\n",
    "\n",
    "예를 들어, 2012년은 4의 배수이면서 100의 배수가 아니라서 윤년이다. \n",
    "1900년은 100의 배수이고 400의 배수는 아니기 때문에 윤년이 아니다. 하지만, 2000년은 400의 배수이기 때문에 윤년이다."
   ]
  },
  {
   "cell_type": "code",
   "execution_count": 17,
   "id": "18d87d46-9748-4926-a64b-2a2ec04fb2f8",
   "metadata": {},
   "outputs": [],
   "source": [
    "# year = 2012 # 윤년\n",
    "year = 1900 # 윤년 x\n",
    "# year = 2000 # 윤년"
   ]
  },
  {
   "cell_type": "code",
   "execution_count": 21,
   "id": "961d60c3-284b-44e3-bfb7-d9f042d4b7a1",
   "metadata": {},
   "outputs": [
    {
     "name": "stdout",
     "output_type": "stream",
     "text": [
      "0\n"
     ]
    }
   ],
   "source": [
    "if (year%4 == 0) & (year%100 != 0):\n",
    "    print (1)\n",
    "elif year%400 == 0:\n",
    "    print (1)\n",
    "else: print (0)"
   ]
  },
  {
   "cell_type": "code",
   "execution_count": null,
   "id": "a3d71a49-5ca2-4626-9f63-8d0352ab271f",
   "metadata": {},
   "outputs": [],
   "source": []
  }
 ],
 "metadata": {
  "kernelspec": {
   "display_name": "Python 3 (ipykernel)",
   "language": "python",
   "name": "python3"
  },
  "language_info": {
   "codemirror_mode": {
    "name": "ipython",
    "version": 3
   },
   "file_extension": ".py",
   "mimetype": "text/x-python",
   "name": "python",
   "nbconvert_exporter": "python",
   "pygments_lexer": "ipython3",
   "version": "3.9.7"
  }
 },
 "nbformat": 4,
 "nbformat_minor": 5
}
